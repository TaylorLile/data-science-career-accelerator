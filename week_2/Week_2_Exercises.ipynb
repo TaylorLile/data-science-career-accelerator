{
 "cells": [
  {
   "cell_type": "markdown",
   "id": "c0c6abce",
   "metadata": {},
   "source": [
    "# Week 2 — pandas Foundations (Series, DataFrames, Indexing)\n",
    "\n",
    "**Goal:** Build confidence with pandas fundamentals: loading data, inspecting dtypes, selecting rows/columns, filtering, assigning new columns, and basic aggregations.\n",
    "\n",
    "**Use ONE of these stable datasets (raw CSV links):**\n",
    "- **Penguins** (clean, small):\n",
    "  `https://raw.githubusercontent.com/allisonhorst/palmerpenguins/master/inst/extdata/penguins.csv`\n",
    "- **Drinks by country** (FiveThirtyEight):\n",
    "  `https://raw.githubusercontent.com/fivethirtyeight/data/master/alcohol-consumption/drinks.csv`\n"
   ]
  },
  {
   "cell_type": "markdown",
   "id": "c827d3bb",
   "metadata": {},
   "source": [
    "## Setup"
   ]
  },
  {
   "cell_type": "code",
   "execution_count": 8,
   "id": "47d27fdf",
   "metadata": {},
   "outputs": [
    {
     "data": {
      "text/html": [
       "<div>\n",
       "<style scoped>\n",
       "    .dataframe tbody tr th:only-of-type {\n",
       "        vertical-align: middle;\n",
       "    }\n",
       "\n",
       "    .dataframe tbody tr th {\n",
       "        vertical-align: top;\n",
       "    }\n",
       "\n",
       "    .dataframe thead th {\n",
       "        text-align: right;\n",
       "    }\n",
       "</style>\n",
       "<table border=\"1\" class=\"dataframe\">\n",
       "  <thead>\n",
       "    <tr style=\"text-align: right;\">\n",
       "      <th></th>\n",
       "      <th>species</th>\n",
       "      <th>island</th>\n",
       "      <th>bill_length_mm</th>\n",
       "      <th>bill_depth_mm</th>\n",
       "      <th>flipper_length_mm</th>\n",
       "      <th>body_mass_g</th>\n",
       "      <th>sex</th>\n",
       "      <th>year</th>\n",
       "    </tr>\n",
       "  </thead>\n",
       "  <tbody>\n",
       "    <tr>\n",
       "      <th>0</th>\n",
       "      <td>Adelie</td>\n",
       "      <td>Torgersen</td>\n",
       "      <td>39.1</td>\n",
       "      <td>18.7</td>\n",
       "      <td>181.0</td>\n",
       "      <td>3750.0</td>\n",
       "      <td>male</td>\n",
       "      <td>2007</td>\n",
       "    </tr>\n",
       "    <tr>\n",
       "      <th>1</th>\n",
       "      <td>Adelie</td>\n",
       "      <td>Torgersen</td>\n",
       "      <td>39.5</td>\n",
       "      <td>17.4</td>\n",
       "      <td>186.0</td>\n",
       "      <td>3800.0</td>\n",
       "      <td>female</td>\n",
       "      <td>2007</td>\n",
       "    </tr>\n",
       "    <tr>\n",
       "      <th>2</th>\n",
       "      <td>Adelie</td>\n",
       "      <td>Torgersen</td>\n",
       "      <td>40.3</td>\n",
       "      <td>18.0</td>\n",
       "      <td>195.0</td>\n",
       "      <td>3250.0</td>\n",
       "      <td>female</td>\n",
       "      <td>2007</td>\n",
       "    </tr>\n",
       "    <tr>\n",
       "      <th>3</th>\n",
       "      <td>Adelie</td>\n",
       "      <td>Torgersen</td>\n",
       "      <td>NaN</td>\n",
       "      <td>NaN</td>\n",
       "      <td>NaN</td>\n",
       "      <td>NaN</td>\n",
       "      <td>NaN</td>\n",
       "      <td>2007</td>\n",
       "    </tr>\n",
       "    <tr>\n",
       "      <th>4</th>\n",
       "      <td>Adelie</td>\n",
       "      <td>Torgersen</td>\n",
       "      <td>36.7</td>\n",
       "      <td>19.3</td>\n",
       "      <td>193.0</td>\n",
       "      <td>3450.0</td>\n",
       "      <td>female</td>\n",
       "      <td>2007</td>\n",
       "    </tr>\n",
       "  </tbody>\n",
       "</table>\n",
       "</div>"
      ],
      "text/plain": [
       "  species     island  bill_length_mm  bill_depth_mm  flipper_length_mm  \\\n",
       "0  Adelie  Torgersen            39.1           18.7              181.0   \n",
       "1  Adelie  Torgersen            39.5           17.4              186.0   \n",
       "2  Adelie  Torgersen            40.3           18.0              195.0   \n",
       "3  Adelie  Torgersen             NaN            NaN                NaN   \n",
       "4  Adelie  Torgersen            36.7           19.3              193.0   \n",
       "\n",
       "   body_mass_g     sex  year  \n",
       "0       3750.0    male  2007  \n",
       "1       3800.0  female  2007  \n",
       "2       3250.0  female  2007  \n",
       "3          NaN     NaN  2007  \n",
       "4       3450.0  female  2007  "
      ]
     },
     "execution_count": 8,
     "metadata": {},
     "output_type": "execute_result"
    }
   ],
   "source": [
    "# Pick ONE dataset and set DATA_URL to it\n",
    "DATA_URL = r\"C:\\Users\\taylorlile\\projects\\data-science-career-accelerator\\week_2\\datasets\\penguins.csv\"\n",
    "\n",
    "import pandas as pd\n",
    "df = pd.read_csv(DATA_URL)\n",
    "df.head()"
   ]
  },
  {
   "cell_type": "markdown",
   "id": "93901db2",
   "metadata": {},
   "source": [
    "## Task 1 — Load & Inspect"
   ]
  },
  {
   "cell_type": "markdown",
   "id": "2c573833",
   "metadata": {},
   "source": [
    "**Expectations:**\n",
    "- Show shape, columns, dtypes, and the first 5 rows.\n",
    "- Identify any obvious missing values.\n"
   ]
  },
  {
   "cell_type": "code",
   "execution_count": 22,
   "id": "39d8fc6f",
   "metadata": {},
   "outputs": [
    {
     "name": "stdout",
     "output_type": "stream",
     "text": [
      "df shape: (344, 8)\n",
      "Columns: ['species', 'island', 'bill_length_mm', 'bill_depth_mm', 'flipper_length_mm', 'body_mass_g', 'sex', 'year']\n"
     ]
    },
    {
     "data": {
      "text/html": [
       "<div>\n",
       "<style scoped>\n",
       "    .dataframe tbody tr th:only-of-type {\n",
       "        vertical-align: middle;\n",
       "    }\n",
       "\n",
       "    .dataframe tbody tr th {\n",
       "        vertical-align: top;\n",
       "    }\n",
       "\n",
       "    .dataframe thead th {\n",
       "        text-align: right;\n",
       "    }\n",
       "</style>\n",
       "<table border=\"1\" class=\"dataframe\">\n",
       "  <thead>\n",
       "    <tr style=\"text-align: right;\">\n",
       "      <th></th>\n",
       "      <th>species</th>\n",
       "      <th>island</th>\n",
       "      <th>bill_length_mm</th>\n",
       "      <th>bill_depth_mm</th>\n",
       "      <th>flipper_length_mm</th>\n",
       "      <th>body_mass_g</th>\n",
       "      <th>sex</th>\n",
       "      <th>year</th>\n",
       "    </tr>\n",
       "  </thead>\n",
       "  <tbody>\n",
       "    <tr>\n",
       "      <th>0</th>\n",
       "      <td>Adelie</td>\n",
       "      <td>Torgersen</td>\n",
       "      <td>39.1</td>\n",
       "      <td>18.7</td>\n",
       "      <td>181.0</td>\n",
       "      <td>3750.0</td>\n",
       "      <td>male</td>\n",
       "      <td>2007</td>\n",
       "    </tr>\n",
       "    <tr>\n",
       "      <th>1</th>\n",
       "      <td>Adelie</td>\n",
       "      <td>Torgersen</td>\n",
       "      <td>39.5</td>\n",
       "      <td>17.4</td>\n",
       "      <td>186.0</td>\n",
       "      <td>3800.0</td>\n",
       "      <td>female</td>\n",
       "      <td>2007</td>\n",
       "    </tr>\n",
       "    <tr>\n",
       "      <th>2</th>\n",
       "      <td>Adelie</td>\n",
       "      <td>Torgersen</td>\n",
       "      <td>40.3</td>\n",
       "      <td>18.0</td>\n",
       "      <td>195.0</td>\n",
       "      <td>3250.0</td>\n",
       "      <td>female</td>\n",
       "      <td>2007</td>\n",
       "    </tr>\n",
       "    <tr>\n",
       "      <th>3</th>\n",
       "      <td>Adelie</td>\n",
       "      <td>Torgersen</td>\n",
       "      <td>NaN</td>\n",
       "      <td>NaN</td>\n",
       "      <td>NaN</td>\n",
       "      <td>NaN</td>\n",
       "      <td>NaN</td>\n",
       "      <td>2007</td>\n",
       "    </tr>\n",
       "    <tr>\n",
       "      <th>4</th>\n",
       "      <td>Adelie</td>\n",
       "      <td>Torgersen</td>\n",
       "      <td>36.7</td>\n",
       "      <td>19.3</td>\n",
       "      <td>193.0</td>\n",
       "      <td>3450.0</td>\n",
       "      <td>female</td>\n",
       "      <td>2007</td>\n",
       "    </tr>\n",
       "  </tbody>\n",
       "</table>\n",
       "</div>"
      ],
      "text/plain": [
       "  species     island  bill_length_mm  bill_depth_mm  flipper_length_mm  \\\n",
       "0  Adelie  Torgersen            39.1           18.7              181.0   \n",
       "1  Adelie  Torgersen            39.5           17.4              186.0   \n",
       "2  Adelie  Torgersen            40.3           18.0              195.0   \n",
       "3  Adelie  Torgersen             NaN            NaN                NaN   \n",
       "4  Adelie  Torgersen            36.7           19.3              193.0   \n",
       "\n",
       "   body_mass_g     sex  year  \n",
       "0       3750.0    male  2007  \n",
       "1       3800.0  female  2007  \n",
       "2       3250.0  female  2007  \n",
       "3          NaN     NaN  2007  \n",
       "4       3450.0  female  2007  "
      ]
     },
     "execution_count": 22,
     "metadata": {},
     "output_type": "execute_result"
    }
   ],
   "source": [
    "# Shape\n",
    "print('df shape:',df.shape)\n",
    "\n",
    "# Columns\n",
    "print('Columns:',list(df.columns))\n",
    "\n",
    "# dtypes\n",
    "\n",
    "\n",
    "# 5 rows\n",
    "df.head()"
   ]
  },
  {
   "cell_type": "markdown",
   "id": "51262301",
   "metadata": {},
   "source": [
    "## Task 2 — Column Selection & Renaming"
   ]
  },
  {
   "cell_type": "markdown",
   "id": "ca68f0fc",
   "metadata": {},
   "source": [
    "**Expectations:**\n",
    "- Select 3–5 columns relevant to simple questions you want to answer.\n",
    "- If needed, rename columns to snake_case for consistency.\n",
    "- Briefly explain *why* you chose these columns."
   ]
  },
  {
   "cell_type": "code",
   "execution_count": null,
   "id": "681f170d",
   "metadata": {},
   "outputs": [],
   "source": [
    "# Your code here"
   ]
  },
  {
   "cell_type": "markdown",
   "id": "f111e36e",
   "metadata": {},
   "source": [
    "## Task 3 — Row Filtering"
   ]
  },
  {
   "cell_type": "markdown",
   "id": "9da7b4ff",
   "metadata": {},
   "source": [
    "**Expectations:**\n",
    "- Create at least 3 different filters (e.g., equality, string contains, numeric threshold, date-based).\n",
    "- Show the count of rows that match each filter.\n",
    "- Keep outputs tidy (head() and counts; avoid flooding the screen)."
   ]
  },
  {
   "cell_type": "code",
   "execution_count": null,
   "id": "e64857f8",
   "metadata": {},
   "outputs": [],
   "source": [
    "# Your code here"
   ]
  },
  {
   "cell_type": "markdown",
   "id": "a0b64931",
   "metadata": {},
   "source": [
    "## Task 4 — Derived Columns (Assign)"
   ]
  },
  {
   "cell_type": "markdown",
   "id": "a6caf6e3",
   "metadata": {},
   "source": [
    "**Expectations:**\n",
    "- Create 1–2 new columns derived from existing ones.\n",
    "- Explain the logic in 1–2 sentences."
   ]
  },
  {
   "cell_type": "code",
   "execution_count": null,
   "id": "eca26f78",
   "metadata": {},
   "outputs": [],
   "source": [
    "# Your code here"
   ]
  },
  {
   "cell_type": "markdown",
   "id": "0f4f86e7",
   "metadata": {},
   "source": [
    "## Task 5 — Basic Aggregations"
   ]
  },
  {
   "cell_type": "markdown",
   "id": "b1edbe59",
   "metadata": {},
   "source": [
    "**Expectations:**\n",
    "- Compute simple aggregates (count, mean/median, min/max).\n",
    "- If dataset is mostly categories, compute frequencies.\n",
    "- Show results in a small, readable table."
   ]
  },
  {
   "cell_type": "code",
   "execution_count": null,
   "id": "ef38a137",
   "metadata": {},
   "outputs": [],
   "source": [
    "# Your code here"
   ]
  },
  {
   "cell_type": "markdown",
   "id": "698e6f39",
   "metadata": {},
   "source": [
    "## Task 6 — Groupby Warm‑Up"
   ]
  },
  {
   "cell_type": "markdown",
   "id": "cf1a8e28",
   "metadata": {},
   "source": [
    "**Expectations:**\n",
    "- Group by 1 categorical column and compute 1–2 aggregates.\n",
    "- Sort the result and show the top/bottom few groups.\n",
    "- Add one short sentence interpreting what you see."
   ]
  },
  {
   "cell_type": "code",
   "execution_count": null,
   "id": "bff5f9bb",
   "metadata": {},
   "outputs": [],
   "source": [
    "# Your code here"
   ]
  },
  {
   "cell_type": "markdown",
   "id": "534045b5",
   "metadata": {},
   "source": [
    "## (Optional) Task 7 — Tiny Visualization"
   ]
  },
  {
   "cell_type": "markdown",
   "id": "a75547cb",
   "metadata": {},
   "source": [
    "**Expectations:**\n",
    "- Make a small bar/line plot from your groupby output.\n",
    "- Keep it simple; labels and a title required."
   ]
  },
  {
   "cell_type": "code",
   "execution_count": null,
   "id": "3d8f5a6c",
   "metadata": {},
   "outputs": [],
   "source": [
    "# Your code here"
   ]
  },
  {
   "cell_type": "markdown",
   "id": "c81c084a",
   "metadata": {},
   "source": [
    "## Wrap‑Up — Summary"
   ]
  },
  {
   "cell_type": "markdown",
   "id": "1c89f2a2",
   "metadata": {},
   "source": [
    "In 3–5 bullets, summarize what you learned about the dataset and any data quality issues you noticed."
   ]
  }
 ],
 "metadata": {
  "kernelspec": {
   "display_name": "Python 3 (ipykernel)",
   "language": "python",
   "name": "python3"
  },
  "language_info": {
   "codemirror_mode": {
    "name": "ipython",
    "version": 3
   },
   "file_extension": ".py",
   "mimetype": "text/x-python",
   "name": "python",
   "nbconvert_exporter": "python",
   "pygments_lexer": "ipython3",
   "version": "3.11.7"
  }
 },
 "nbformat": 4,
 "nbformat_minor": 5
}
