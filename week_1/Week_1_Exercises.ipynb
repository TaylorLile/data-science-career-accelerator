{
 "cells": [
  {
   "cell_type": "code",
   "execution_count": null,
   "id": "afe4b69c-413e-4400-b1c7-8bbbf332a689",
   "metadata": {},
   "outputs": [],
   "source": [
    "#### PART 1 - Python Essentials"
   ]
  },
  {
   "cell_type": "code",
   "execution_count": null,
   "id": "dae2b36e-c11d-4901-9fcc-63e969f64881",
   "metadata": {},
   "outputs": [],
   "source": [
    "## Imports\n",
    "import pandas as pd\n",
    "import statistics as stat\n",
    "import os as os "
   ]
  },
  {
   "cell_type": "code",
   "execution_count": null,
   "id": "dfa26514-7bc4-4815-96ea-d951596da217",
   "metadata": {},
   "outputs": [],
   "source": [
    "## 1: Variables & Types\n",
    "\n",
    "## Define Variables\n",
    "name = 'Taylor'\n",
    "age = 30\n",
    "height_f = 6.0\n",
    "height_m = height_f * 0.3048\n",
    "\n",
    "## Print String\n",
    "print(f'My name is {name}, I am 32 years old, and I am {height_m} meters tall.')"
   ]
  },
  {
   "cell_type": "code",
   "execution_count": null,
   "id": "4b806b40-3d02-4239-8981-8ddfc66aa68d",
   "metadata": {},
   "outputs": [],
   "source": [
    "## 2: Lists & Loops\n",
    "\n",
    "## Create a List\n",
    "list = [1,2,3,4,5]\n",
    "\n",
    "## Loop through and print list items (Simple Way)\n",
    "for num in list:\n",
    "    print(f'Number: {num} → Square: {num**2}')\n",
    "\n",
    "## Loop through and print list items (Data Science Way)\n",
    "df = pd.DataFrame({\n",
    "    \"Number\": list,\n",
    "    \"Square\": [n**2 for n in list]\n",
    "})\n",
    "df"
   ]
  },
  {
   "cell_type": "code",
   "execution_count": null,
   "id": "7d35e4c3-f4b1-4de0-904a-cab8235be22c",
   "metadata": {},
   "outputs": [],
   "source": [
    "## 3: Dictionaries\n",
    "\n",
    "## Create Dictionary\n",
    "student = {\n",
    "    \"name\": (\"Taylor\", \"Tricia\", \"Russell\"),\n",
    "    \"age\": (30, 31, 28),\n",
    "    \"grades\": (90, 100, 100)\n",
    "}\n",
    "\n",
    "## Calculate Average Grade\n",
    "avg_grade = stat.mean(student[\"grades\"])\n",
    "\n",
    "## Return Avg_Grade\n",
    "avg_grade"
   ]
  },
  {
   "cell_type": "code",
   "execution_count": null,
   "id": "321a3b26-125c-49fb-a961-ecbc2d4e4666",
   "metadata": {},
   "outputs": [],
   "source": [
    "## 4: Functions\n",
    "\n",
    "## Create a f_c Function\n",
    "def fahrenheit_to_celsius(f):\n",
    "    return(((f - 32) * 5) / 9)\n",
    "\n",
    "## Examples\n",
    "fahrenheit_to_celsius(32)\n",
    "fahrenheit_to_celsius(68)\n",
    "fahrenheit_to_celsius(100)"
   ]
  },
  {
   "cell_type": "code",
   "execution_count": null,
   "id": "a80180af-5d1a-4ce3-b20f-b98aca43eb88",
   "metadata": {},
   "outputs": [],
   "source": [
    "## 5: Conditionals\n",
    "\n",
    "## Ask User for Input\n",
    "user_input = input(\"What is your number?\")\n",
    "\n",
    "## Return Positive or Negative or Zero\n",
    "if int(user_input) == 0:\n",
    "    print('Zero')\n",
    "elif int(user_input) < 0:\n",
    "    print('Negative')\n",
    "else:\n",
    "    print('Positive')"
   ]
  },
  {
   "cell_type": "code",
   "execution_count": null,
   "id": "93e7157a-851b-4947-9676-31aa892eaf4b",
   "metadata": {},
   "outputs": [],
   "source": [
    "#### PART 2 - Mini Data Challenge (Titanic Dataset)\n",
    "\n",
    "## 1: Load Dataset\n",
    "url = \"https://raw.githubusercontent.com/datasciencedojo/datasets/master/titanic.csv\"\n",
    "df = pd.read_csv(url)"
   ]
  },
  {
   "cell_type": "code",
   "execution_count": null,
   "id": "e54e5bb2-465d-4955-8110-61b5ff38b7b0",
   "metadata": {},
   "outputs": [],
   "source": [
    "## 2. Display first 5 rows of data\n",
    "df.head()"
   ]
  },
  {
   "cell_type": "code",
   "execution_count": null,
   "id": "9934cc18-2f98-476c-beb9-2cb0bb8afa5b",
   "metadata": {},
   "outputs": [],
   "source": [
    "## 3. How many passengers survived?\n",
    "survived_count = sum(df[\"Survived\"])\n",
    "print(f'Number that survived: {survived_count}')"
   ]
  },
  {
   "cell_type": "code",
   "execution_count": null,
   "id": "b0ae50da-9726-4783-916c-4ac7551853a8",
   "metadata": {},
   "outputs": [],
   "source": [
    "## 4. How many passengers survived?\n",
    "clean_age = df.dropna(subset=[\"Age\"])\n",
    "avg_age = stat.mean(clean_age[\"Age\"])\n",
    "print(f'Average age of passengers: {avg_age}')"
   ]
  },
  {
   "cell_type": "code",
   "execution_count": null,
   "id": "e98541e3-411c-4b92-8f3e-db2457f35fa4",
   "metadata": {},
   "outputs": [],
   "source": [
    "## 5. Who were the passengers under 18?\n",
    "clean_age.loc[clean_age[\"Age\"] < 18][\"Name\"]"
   ]
  },
  {
   "cell_type": "code",
   "execution_count": null,
   "id": "6c0dddc1-9084-4a5d-adca-c29bf447ee8f",
   "metadata": {},
   "outputs": [],
   "source": []
  }
 ],
 "metadata": {
  "kernelspec": {
   "display_name": "Python 3 (ipykernel)",
   "language": "python",
   "name": "python3"
  },
  "language_info": {
   "codemirror_mode": {
    "name": "ipython",
    "version": 3
   },
   "file_extension": ".py",
   "mimetype": "text/x-python",
   "name": "python",
   "nbconvert_exporter": "python",
   "pygments_lexer": "ipython3",
   "version": "3.11.7"
  }
 },
 "nbformat": 4,
 "nbformat_minor": 5
}
